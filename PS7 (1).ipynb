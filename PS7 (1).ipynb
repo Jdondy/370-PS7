{
 "cells": [
  {
   "cell_type": "markdown",
   "id": "6ddfdf01-acce-4609-9cc3-1992e4bcd6eb",
   "metadata": {},
   "source": [
    "# Problem Set 7"
   ]
  },
  {
   "cell_type": "code",
   "execution_count": 19,
   "id": "e2620dc1-9218-4148-b2e9-ef4dcf563650",
   "metadata": {},
   "outputs": [],
   "source": [
    "import pandas as pd\n",
    "pd.options.mode.chained_assignment = None \n",
    "import matplotlib.pyplot as plt\n",
    "import seaborn as sns\n",
    "import numpy as np\n",
    "import statsmodels.formula.api as smf\n",
    "from sklearn.model_selection import train_test_split"
   ]
  },
  {
   "cell_type": "markdown",
   "id": "3ac87323-4e64-4d1e-963e-8be8b9c6cee3",
   "metadata": {},
   "source": [
    "## 1. Heart Attacks\n",
    "#### 1."
   ]
  },
  {
   "cell_type": "code",
   "execution_count": 20,
   "id": "1d34aefb-a859-4c58-a53c-5c561bb18866",
   "metadata": {},
   "outputs": [
    {
     "name": "stdout",
     "output_type": "stream",
     "text": [
      "count    303.000000\n",
      "mean       0.544554\n",
      "std        0.498835\n",
      "min        0.000000\n",
      "25%        0.000000\n",
      "50%        1.000000\n",
      "75%        1.000000\n",
      "max        1.000000\n",
      "Name: output, dtype: float64\n",
      "age         int64\n",
      "sex         int64\n",
      "cp          int64\n",
      "trtbps      int64\n",
      "chol        int64\n",
      "fbs         int64\n",
      "restecg     int64\n",
      "thalachh    int64\n",
      "exng        int64\n",
      "caa         int64\n",
      "output      int64\n",
      "dtype: object\n",
      "(303, 11)\n"
     ]
    }
   ],
   "source": [
    "heart = pd.read_csv('../Data/heart.csv')\n",
    "heart.head()\n",
    "heart = heart.drop(['slp','thall','oldpeak'], axis=1)\n",
    "heart.dropna()\n",
    "print(heart.output.describe())\n",
    "print(heart.dtypes)\n",
    "print(heart.shape)"
   ]
  },
  {
   "cell_type": "markdown",
   "id": "517de644-5bb3-4bb0-9a7d-c8211b775129",
   "metadata": {},
   "source": [
    "#### 2."
   ]
  },
  {
   "cell_type": "code",
   "execution_count": 21,
   "id": "aeca678f-639f-4d16-af9f-372e61c03570",
   "metadata": {},
   "outputs": [
    {
     "name": "stdout",
     "output_type": "stream",
     "text": [
      "Optimization terminated successfully.\n",
      "         Current function value: 0.355396\n",
      "         Iterations 7\n",
      "                           Logit Regression Results                           \n",
      "==============================================================================\n",
      "Dep. Variable:                 output   No. Observations:                  303\n",
      "Model:                          Logit   Df Residuals:                      286\n",
      "Method:                           MLE   Df Model:                           16\n",
      "Date:                Mon, 07 Mar 2022   Pseudo R-squ.:                  0.4843\n",
      "Time:                        04:54:26   Log-Likelihood:                -107.69\n",
      "converged:                       True   LL-Null:                       -208.82\n",
      "Covariance Type:            nonrobust   LLR p-value:                 2.759e-34\n",
      "================================================================================\n",
      "                   coef    std err          z      P>|z|      [0.025      0.975]\n",
      "--------------------------------------------------------------------------------\n",
      "Intercept        0.4035      2.469      0.163      0.870      -4.435       5.242\n",
      "cp[T.1]          1.5343      0.543      2.827      0.005       0.470       2.598\n",
      "cp[T.2]          1.6907      0.441      3.838      0.000       0.827       2.554\n",
      "cp[T.3]          1.8970      0.667      2.843      0.004       0.589       3.205\n",
      "restecg[T.1]     0.4206      0.361      1.165      0.244      -0.287       1.128\n",
      "restecg[T.2]    -0.9518      2.118     -0.449      0.653      -5.103       3.199\n",
      "caa[T.1]        -1.8571      0.458     -4.052      0.000      -2.756      -0.959\n",
      "caa[T.2]        -3.0485      0.647     -4.712      0.000      -4.317      -1.780\n",
      "caa[T.3]        -2.3741      0.783     -3.032      0.002      -3.908      -0.840\n",
      "caa[T.4]         0.4676      1.586      0.295      0.768      -2.642       3.577\n",
      "age              0.0237      0.024      0.992      0.321      -0.023       0.070\n",
      "sex             -2.1367      0.457     -4.671      0.000      -3.033      -1.240\n",
      "trtbps          -0.0285      0.011     -2.656      0.008      -0.050      -0.007\n",
      "chol            -0.0061      0.004     -1.524      0.128      -0.014       0.002\n",
      "fbs              0.4437      0.501      0.886      0.375      -0.537       1.425\n",
      "thalachh         0.0357      0.011      3.391      0.001       0.015       0.056\n",
      "exng            -1.1615      0.418     -2.781      0.005      -1.980      -0.343\n",
      "================================================================================\n",
      "        Logit Marginal Effects       \n",
      "=====================================\n",
      "Dep. Variable:                 output\n",
      "Method:                          dydx\n",
      "At:                           overall\n",
      "================================================================================\n",
      "                  dy/dx    std err          z      P>|z|      [0.025      0.975]\n",
      "--------------------------------------------------------------------------------\n",
      "cp[T.1]          0.1716      0.058      2.975      0.003       0.059       0.285\n",
      "cp[T.2]          0.1891      0.045      4.234      0.000       0.102       0.277\n",
      "cp[T.3]          0.2122      0.071      2.986      0.003       0.073       0.351\n",
      "restecg[T.1]     0.0470      0.040      1.173      0.241      -0.032       0.126\n",
      "restecg[T.2]    -0.1065      0.237     -0.450      0.653      -0.570       0.358\n",
      "caa[T.1]        -0.2077      0.046     -4.532      0.000      -0.298      -0.118\n",
      "caa[T.2]        -0.3410      0.062     -5.515      0.000      -0.462      -0.220\n",
      "caa[T.3]        -0.2655      0.082     -3.241      0.001      -0.426      -0.105\n",
      "caa[T.4]         0.0523      0.177      0.295      0.768      -0.295       0.400\n",
      "age              0.0026      0.003      0.998      0.318      -0.003       0.008\n",
      "sex             -0.2390      0.045     -5.331      0.000      -0.327      -0.151\n",
      "trtbps          -0.0032      0.001     -2.776      0.006      -0.005      -0.001\n",
      "chol            -0.0007      0.000     -1.539      0.124      -0.002       0.000\n",
      "fbs              0.0496      0.056      0.890      0.374      -0.060       0.159\n",
      "thalachh         0.0040      0.001      3.628      0.000       0.002       0.006\n",
      "exng            -0.1299      0.045     -2.912      0.004      -0.217      -0.042\n",
      "================================================================================\n"
     ]
    }
   ],
   "source": [
    "heart.cp = heart.cp.astype('category')\n",
    "heart.restecg = heart.restecg.astype('category')\n",
    "heart.caa = heart.caa.astype('category')\n",
    "m = smf.logit('output ~ age + sex + cp + trtbps + chol + fbs + restecg + thalachh + exng + caa', data=heart).fit()\n",
    "print(m.summary())\n",
    "print(m.get_margeff().summary())\n",
    "### age, chol, fbs, restecg arent significant"
   ]
  },
  {
   "cell_type": "markdown",
   "id": "caf0a532-18a8-47ed-9688-5ef1ea8dbe66",
   "metadata": {},
   "source": [
    "- Sex: Being a male decreases the chances of heart attack, this number is significant.\n",
    "- Cp: Chest pain level 3 has the highest chances of bringing a heart attack, CP is significant\n",
    "- Age: The higher your age, the higher chances of getting a heart attack. This number is not significant.\n",
    "- Variables such as caa(number of major vessels) from 1-3, sex, trtbps(resting blood pressure), and exng(exercise enduced angina) are all significant and reduce heart attack probabilities. Some of these makes sense, some don't, like resting bloop pressure, angina, and being a male decreasing the chances."
   ]
  },
  {
   "cell_type": "markdown",
   "id": "70786b17-8853-4201-a2ab-9c699676be73",
   "metadata": {},
   "source": [
    "#### 3."
   ]
  },
  {
   "cell_type": "code",
   "execution_count": 22,
   "id": "a65c5eb8-b230-41f1-87e3-cf8c3e1bee1f",
   "metadata": {},
   "outputs": [
    {
     "name": "stdout",
     "output_type": "stream",
     "text": [
      "[[ 0.02366509 -2.13671455 -0.02850619 -0.00606629  0.44373485  0.03574638\n",
      "  -1.16147274  1.53426412  1.69073314  1.89700821  0.4206284  -0.9518241\n",
      "  -1.85714506 -3.04848106 -2.37405207  0.46761275]]\n",
      "[0.40345569]\n"
     ]
    }
   ],
   "source": [
    "from sklearn.linear_model import LogisticRegression\n",
    "X = heart[['age','sex', 'cp', 'trtbps', 'chol', 'fbs', 'restecg', 'thalachh', 'exng', 'caa']]\n",
    "y = heart.output\n",
    "X1 = pd.get_dummies(X, drop_first=True, columns=['cp','restecg','caa'])\n",
    "m1 = LogisticRegression(penalty='none', solver='newton-cg').fit(X1,y)\n",
    "print(m1.coef_) \n",
    "print(m1.intercept_)"
   ]
  },
  {
   "cell_type": "markdown",
   "id": "f379d05e-9d9b-486d-9c88-0c86c203a77e",
   "metadata": {
    "tags": []
   },
   "source": [
    "#### 4."
   ]
  },
  {
   "cell_type": "code",
   "execution_count": 23,
   "id": "b30bf643-f594-4a23-8dd9-cdb95a6a3fa0",
   "metadata": {},
   "outputs": [
    {
     "data": {
      "text/plain": [
       "array([0.87141187, 0.93795886, 0.9839053 , 0.95509873, 0.78073825,\n",
       "       0.5426836 , 0.95063116, 0.91914941, 0.84980607, 0.93412302])"
      ]
     },
     "execution_count": 23,
     "metadata": {},
     "output_type": "execute_result"
    }
   ],
   "source": [
    "train_y_prob = m1.predict_proba(X1)\n",
    "train_y_prob1 = train_y_prob[:,1]\n",
    "train_y_prob1[:10]"
   ]
  },
  {
   "cell_type": "code",
   "execution_count": 24,
   "id": "7abf16ad-34d6-459b-b5af-18235b8829b0",
   "metadata": {},
   "outputs": [
    {
     "data": {
      "text/plain": [
       "array([ True,  True,  True,  True,  True,  True,  True,  True,  True,\n",
       "        True,  True,  True,  True,  True,  True,  True,  True,  True,\n",
       "        True,  True,  True,  True,  True,  True,  True,  True,  True,\n",
       "        True,  True,  True,  True,  True,  True,  True,  True,  True,\n",
       "        True,  True,  True,  True,  True,  True,  True,  True,  True,\n",
       "        True,  True,  True,  True,  True,  True,  True,  True,  True,\n",
       "        True,  True,  True,  True,  True,  True,  True,  True,  True,\n",
       "        True,  True,  True,  True,  True,  True,  True,  True,  True,\n",
       "        True,  True,  True,  True,  True,  True,  True,  True,  True,\n",
       "        True,  True,  True,  True,  True,  True,  True,  True,  True,\n",
       "        True,  True,  True,  True,  True,  True,  True,  True,  True,\n",
       "        True,  True,  True,  True,  True,  True,  True,  True,  True,\n",
       "        True,  True,  True,  True,  True,  True,  True,  True,  True,\n",
       "        True,  True,  True,  True,  True,  True,  True,  True,  True,\n",
       "        True,  True,  True,  True,  True,  True,  True,  True,  True,\n",
       "        True,  True,  True,  True,  True,  True,  True,  True,  True,\n",
       "        True,  True,  True,  True,  True,  True,  True,  True,  True,\n",
       "        True,  True,  True,  True,  True,  True,  True,  True,  True,\n",
       "        True,  True,  True,  True,  True,  True,  True,  True,  True,\n",
       "        True,  True,  True,  True,  True,  True,  True,  True,  True,\n",
       "        True,  True,  True,  True,  True,  True,  True,  True,  True,\n",
       "        True,  True,  True,  True,  True,  True,  True,  True,  True,\n",
       "        True,  True,  True,  True,  True,  True,  True,  True,  True,\n",
       "        True,  True,  True,  True,  True,  True,  True,  True,  True,\n",
       "        True,  True,  True,  True,  True,  True,  True,  True,  True,\n",
       "        True,  True,  True,  True,  True,  True,  True,  True,  True,\n",
       "        True,  True,  True,  True,  True,  True,  True,  True,  True,\n",
       "        True,  True,  True,  True,  True,  True,  True,  True,  True,\n",
       "        True,  True,  True,  True,  True,  True,  True,  True,  True,\n",
       "        True,  True,  True,  True,  True,  True,  True,  True,  True,\n",
       "        True,  True,  True,  True,  True,  True,  True,  True,  True,\n",
       "        True,  True,  True,  True,  True,  True,  True,  True,  True,\n",
       "        True,  True,  True,  True,  True,  True,  True,  True,  True,\n",
       "        True,  True,  True,  True,  True,  True])"
      ]
     },
     "execution_count": 24,
     "metadata": {},
     "output_type": "execute_result"
    }
   ],
   "source": [
    "train_y_problab = m1.predict(X1)\n",
    "train_y_problab[:10]\n",
    "threshold = 0.5\n",
    "1.0*(train_y_prob1 > threshold) == train_y_problab"
   ]
  },
  {
   "cell_type": "markdown",
   "id": "e73ca814-43fe-4ed9-aa10-da4ff28437a5",
   "metadata": {},
   "source": [
    "#### 5."
   ]
  },
  {
   "cell_type": "code",
   "execution_count": 25,
   "id": "a89c63c0-46b9-436e-a1f7-30b87f948280",
   "metadata": {},
   "outputs": [
    {
     "data": {
      "text/plain": [
       "0.858085808580858"
      ]
     },
     "execution_count": 25,
     "metadata": {},
     "output_type": "execute_result"
    }
   ],
   "source": [
    "from sklearn.metrics import accuracy_score\n",
    "accuracy_score(train_y_problab, y)"
   ]
  },
  {
   "cell_type": "markdown",
   "id": "fbb17fef-49a7-40c2-be7d-8d8b62fa9176",
   "metadata": {},
   "source": [
    "I think I would be comfortable using this model, however it's always important to consider that there are human lives at stake here, so higher accuracy scores are always more dsireable."
   ]
  },
  {
   "cell_type": "markdown",
   "id": "8a364820-cfa1-4c3e-9561-c7a5c46f9db5",
   "metadata": {},
   "source": [
    "#### 6."
   ]
  },
  {
   "cell_type": "code",
   "execution_count": 26,
   "id": "6da6cc37-76cf-4bc5-9b8f-da28ad7d8b0a",
   "metadata": {},
   "outputs": [
    {
     "data": {
      "text/plain": [
       "array([[113,  25],\n",
       "       [ 18, 147]])"
      ]
     },
     "execution_count": 26,
     "metadata": {},
     "output_type": "execute_result"
    }
   ],
   "source": [
    "from sklearn.metrics import confusion_matrix\n",
    "cm = confusion_matrix(y, train_y_problab)\n",
    "cm"
   ]
  },
  {
   "cell_type": "code",
   "execution_count": 27,
   "id": "d7a169a8-8e30-4e53-b91e-6ec81b2ca5b6",
   "metadata": {},
   "outputs": [
    {
     "name": "stdout",
     "output_type": "stream",
     "text": [
      "Accuracy:  0.858085808580858 precision:  0.8546511627906976 recall:  0.8909090909090909\n"
     ]
    }
   ],
   "source": [
    "from sklearn.metrics import accuracy_score\n",
    "a = accuracy_score(y, train_y_problab)\n",
    "from sklearn.metrics import precision_score\n",
    "p = precision_score(y, train_y_problab)\n",
    "from sklearn.metrics import recall_score\n",
    "r = recall_score(y, train_y_problab)\n",
    "\n",
    "print('Accuracy: ',a,'precision: ',p,'recall: ',r)"
   ]
  },
  {
   "cell_type": "markdown",
   "id": "9b10e635-9c42-46db-95d9-d2d41c66bb39",
   "metadata": {},
   "source": [
    "## 2. Predict Airbnb Price\n",
    "#### 1."
   ]
  },
  {
   "cell_type": "code",
   "execution_count": 69,
   "id": "a8cf47d6-73d7-4330-b4a7-7e2d10048ba3",
   "metadata": {},
   "outputs": [
    {
     "name": "stderr",
     "output_type": "stream",
     "text": [
      "/tmp/ipykernel_87/1323061788.py:3: FutureWarning: The default value of regex will change from True to False in a future version. In addition, single character regular expressions will *not* be treated as literal strings when regex=True.\n",
      "  airb['price'] = airb['price'].str.replace('$', '')\n"
     ]
    },
    {
     "data": {
      "text/html": [
       "<table class=\"simpletable\">\n",
       "<caption>OLS Regression Results</caption>\n",
       "<tr>\n",
       "  <th>Dep. Variable:</th>        <td>logarithm</td>    <th>  R-squared:         </th> <td>   0.462</td> \n",
       "</tr>\n",
       "<tr>\n",
       "  <th>Model:</th>                   <td>OLS</td>       <th>  Adj. R-squared:    </th> <td>   0.462</td> \n",
       "</tr>\n",
       "<tr>\n",
       "  <th>Method:</th>             <td>Least Squares</td>  <th>  F-statistic:       </th> <td>   2765.</td> \n",
       "</tr>\n",
       "<tr>\n",
       "  <th>Date:</th>             <td>Mon, 07 Mar 2022</td> <th>  Prob (F-statistic):</th>  <td>  0.00</td>  \n",
       "</tr>\n",
       "<tr>\n",
       "  <th>Time:</th>                 <td>05:53:38</td>     <th>  Log-Likelihood:    </th> <td> -35568.</td> \n",
       "</tr>\n",
       "<tr>\n",
       "  <th>No. Observations:</th>      <td> 38686</td>      <th>  AIC:               </th> <td>7.116e+04</td>\n",
       "</tr>\n",
       "<tr>\n",
       "  <th>Df Residuals:</th>          <td> 38673</td>      <th>  BIC:               </th> <td>7.127e+04</td>\n",
       "</tr>\n",
       "<tr>\n",
       "  <th>Df Model:</th>              <td>    12</td>      <th>                     </th>     <td> </td>    \n",
       "</tr>\n",
       "<tr>\n",
       "  <th>Covariance Type:</th>      <td>nonrobust</td>    <th>                     </th>     <td> </td>    \n",
       "</tr>\n",
       "</table>\n",
       "<table class=\"simpletable\">\n",
       "<tr>\n",
       "               <td></td>                 <th>coef</th>     <th>std err</th>      <th>t</th>      <th>P>|t|</th>  <th>[0.025</th>    <th>0.975]</th>  \n",
       "</tr>\n",
       "<tr>\n",
       "  <th>Intercept</th>                  <td>    5.4249</td> <td>    0.047</td> <td>  114.669</td> <td> 0.000</td> <td>    5.332</td> <td>    5.518</td>\n",
       "</tr>\n",
       "<tr>\n",
       "  <th>bedrooms2[T.1]</th>             <td>    0.0563</td> <td>    0.040</td> <td>    1.413</td> <td> 0.158</td> <td>   -0.022</td> <td>    0.134</td>\n",
       "</tr>\n",
       "<tr>\n",
       "  <th>bedrooms2[T.2]</th>             <td>    0.1791</td> <td>    0.041</td> <td>    4.389</td> <td> 0.000</td> <td>    0.099</td> <td>    0.259</td>\n",
       "</tr>\n",
       "<tr>\n",
       "  <th>bedrooms2[T.3]</th>             <td>    0.4472</td> <td>    0.042</td> <td>   10.593</td> <td> 0.000</td> <td>    0.364</td> <td>    0.530</td>\n",
       "</tr>\n",
       "<tr>\n",
       "  <th>bedrooms2[T.4 or more]</th>     <td>    0.7742</td> <td>    0.044</td> <td>   17.602</td> <td> 0.000</td> <td>    0.688</td> <td>    0.860</td>\n",
       "</tr>\n",
       "<tr>\n",
       "  <th>room_type[T.Private room]</th>  <td>   -0.3253</td> <td>    0.007</td> <td>  -44.126</td> <td> 0.000</td> <td>   -0.340</td> <td>   -0.311</td>\n",
       "</tr>\n",
       "<tr>\n",
       "  <th>room_type[T.Shared room]</th>   <td>   -0.9569</td> <td>    0.017</td> <td>  -56.845</td> <td> 0.000</td> <td>   -0.990</td> <td>   -0.924</td>\n",
       "</tr>\n",
       "<tr>\n",
       "  <th>accommodates2[T.2]</th>         <td>    0.3251</td> <td>    0.013</td> <td>   24.221</td> <td> 0.000</td> <td>    0.299</td> <td>    0.351</td>\n",
       "</tr>\n",
       "<tr>\n",
       "  <th>accommodates2[T.3]</th>         <td>    0.3860</td> <td>    0.017</td> <td>   23.288</td> <td> 0.000</td> <td>    0.354</td> <td>    0.418</td>\n",
       "</tr>\n",
       "<tr>\n",
       "  <th>accommodates2[T.4 or more]</th> <td>    0.5924</td> <td>    0.015</td> <td>   38.401</td> <td> 0.000</td> <td>    0.562</td> <td>    0.623</td>\n",
       "</tr>\n",
       "<tr>\n",
       "  <th>bathrooms2[T.1]</th>            <td>    0.1667</td> <td>    0.024</td> <td>    7.022</td> <td> 0.000</td> <td>    0.120</td> <td>    0.213</td>\n",
       "</tr>\n",
       "<tr>\n",
       "  <th>bathrooms2[T.2]</th>            <td>    0.3387</td> <td>    0.026</td> <td>   13.101</td> <td> 0.000</td> <td>    0.288</td> <td>    0.389</td>\n",
       "</tr>\n",
       "<tr>\n",
       "  <th>bathrooms2[T.3 or more]</th>    <td>    0.8848</td> <td>    0.030</td> <td>   29.666</td> <td> 0.000</td> <td>    0.826</td> <td>    0.943</td>\n",
       "</tr>\n",
       "</table>\n",
       "<table class=\"simpletable\">\n",
       "<tr>\n",
       "  <th>Omnibus:</th>       <td>9155.631</td> <th>  Durbin-Watson:     </th> <td>   1.777</td> \n",
       "</tr>\n",
       "<tr>\n",
       "  <th>Prob(Omnibus):</th>  <td> 0.000</td>  <th>  Jarque-Bera (JB):  </th> <td>55952.994</td>\n",
       "</tr>\n",
       "<tr>\n",
       "  <th>Skew:</th>           <td> 0.999</td>  <th>  Prob(JB):          </th> <td>    0.00</td> \n",
       "</tr>\n",
       "<tr>\n",
       "  <th>Kurtosis:</th>       <td> 8.543</td>  <th>  Cond. No.          </th> <td>    48.9</td> \n",
       "</tr>\n",
       "</table><br/><br/>Notes:<br/>[1] Standard Errors assume that the covariance matrix of the errors is correctly specified."
      ],
      "text/plain": [
       "<class 'statsmodels.iolib.summary.Summary'>\n",
       "\"\"\"\n",
       "                            OLS Regression Results                            \n",
       "==============================================================================\n",
       "Dep. Variable:              logarithm   R-squared:                       0.462\n",
       "Model:                            OLS   Adj. R-squared:                  0.462\n",
       "Method:                 Least Squares   F-statistic:                     2765.\n",
       "Date:                Mon, 07 Mar 2022   Prob (F-statistic):               0.00\n",
       "Time:                        05:53:38   Log-Likelihood:                -35568.\n",
       "No. Observations:               38686   AIC:                         7.116e+04\n",
       "Df Residuals:                   38673   BIC:                         7.127e+04\n",
       "Df Model:                          12                                         \n",
       "Covariance Type:            nonrobust                                         \n",
       "==============================================================================================\n",
       "                                 coef    std err          t      P>|t|      [0.025      0.975]\n",
       "----------------------------------------------------------------------------------------------\n",
       "Intercept                      5.4249      0.047    114.669      0.000       5.332       5.518\n",
       "bedrooms2[T.1]                 0.0563      0.040      1.413      0.158      -0.022       0.134\n",
       "bedrooms2[T.2]                 0.1791      0.041      4.389      0.000       0.099       0.259\n",
       "bedrooms2[T.3]                 0.4472      0.042     10.593      0.000       0.364       0.530\n",
       "bedrooms2[T.4 or more]         0.7742      0.044     17.602      0.000       0.688       0.860\n",
       "room_type[T.Private room]     -0.3253      0.007    -44.126      0.000      -0.340      -0.311\n",
       "room_type[T.Shared room]      -0.9569      0.017    -56.845      0.000      -0.990      -0.924\n",
       "accommodates2[T.2]             0.3251      0.013     24.221      0.000       0.299       0.351\n",
       "accommodates2[T.3]             0.3860      0.017     23.288      0.000       0.354       0.418\n",
       "accommodates2[T.4 or more]     0.5924      0.015     38.401      0.000       0.562       0.623\n",
       "bathrooms2[T.1]                0.1667      0.024      7.022      0.000       0.120       0.213\n",
       "bathrooms2[T.2]                0.3387      0.026     13.101      0.000       0.288       0.389\n",
       "bathrooms2[T.3 or more]        0.8848      0.030     29.666      0.000       0.826       0.943\n",
       "==============================================================================\n",
       "Omnibus:                     9155.631   Durbin-Watson:                   1.777\n",
       "Prob(Omnibus):                  0.000   Jarque-Bera (JB):            55952.994\n",
       "Skew:                           0.999   Prob(JB):                         0.00\n",
       "Kurtosis:                       8.543   Cond. No.                         48.9\n",
       "==============================================================================\n",
       "\n",
       "Notes:\n",
       "[1] Standard Errors assume that the covariance matrix of the errors is correctly specified.\n",
       "\"\"\""
      ]
     },
     "execution_count": 69,
     "metadata": {},
     "output_type": "execute_result"
    }
   ],
   "source": [
    "airb = pd.read_csv(\"../Data/airbnb-beijing-listings.csv.bz2\", usecols = ['price','bedrooms','room_type','accommodates','bathrooms'], thousands = ',')\n",
    "airb['price'] = airb['price'].str.replace(',', '') \n",
    "airb['price'] = airb['price'].str.replace('$', '') \n",
    "airb['price'] = pd.to_numeric(airb['price'], errors='coerce')\n",
    "airb.drop(airb.index[airb['price'] == 0], inplace = True) # gets rid of the $0 air b and b's as these are not reasonable\n",
    "airb = airb.dropna()\n",
    "airb[\"bedrooms2\"] = pd.cut(airb.bedrooms,                       \n",
    "                      bins = [0, 1, 2, 3, 4, np.inf],\n",
    "                      labels = [\"0\", \"1\", \"2\", \"3\", \"4 or more\"],\n",
    "                      right=False) # categorizes the variabel: bedrooms\n",
    "airb['logarithm'] = np.log(airb['price'])\n",
    "airb.replace([np.inf, -np.inf], np.nan, inplace=True) # gets rid of the infinite values created by the log function\n",
    "airb.dropna() # drops the na's created from getting rid of the inifinite values\n",
    "airb[\"bathrooms2\"] = pd.cut(airb.bathrooms,\n",
    "                      bins = [0, 1, 2, 3, np.inf],\n",
    "                      labels = [\"0\", \"1\", \"2\", \"3 or more\"],\n",
    "                      right=False)\n",
    "airb[\"accommodates2\"] = pd.cut(airb.accommodates,\n",
    "                      bins = [1, 2, 3, 4, np.inf],\n",
    "                      labels = [\"1\", \"2\", \"3\", \"4 or more\"],\n",
    "                      right=False)\n",
    "m3 = smf.ols(\"logarithm ~ bedrooms2 + room_type + accommodates2 + bathrooms2\", data = airb).fit()\n",
    "m3.summary()"
   ]
  },
  {
   "cell_type": "markdown",
   "id": "f214e66e-2007-4529-8b0f-31dc3dda5432",
   "metadata": {},
   "source": [
    "#### 2."
   ]
  },
  {
   "cell_type": "code",
   "execution_count": 37,
   "id": "b0be5efd-cf56-40f2-aedf-8d0cc46e7d1f",
   "metadata": {},
   "outputs": [
    {
     "data": {
      "text/plain": [
       "0        6.803216\n",
       "1        5.647766\n",
       "2        5.973020\n",
       "3        5.973020\n",
       "4        5.973020\n",
       "           ...   \n",
       "38809    5.647766\n",
       "38810    7.676307\n",
       "38811    5.915056\n",
       "38812    5.915056\n",
       "38813    6.095839\n",
       "Length: 38686, dtype: float64"
      ]
     },
     "execution_count": 37,
     "metadata": {},
     "output_type": "execute_result"
    }
   ],
   "source": [
    "bnb_pred = m3.predict(airb)\n",
    "bnb_pred"
   ]
  },
  {
   "cell_type": "markdown",
   "id": "3e157ad7-dd12-4e2a-b375-77de325ee033",
   "metadata": {},
   "source": [
    "#### 3."
   ]
  },
  {
   "cell_type": "code",
   "execution_count": 49,
   "id": "7d0c13a3-38be-4a2f-b8fa-af487c521867",
   "metadata": {},
   "outputs": [
    {
     "data": {
      "text/plain": [
       "0.6068148985864634"
      ]
     },
     "execution_count": 49,
     "metadata": {},
     "output_type": "execute_result"
    }
   ],
   "source": [
    "bruh = airb['logarithm'].values\n",
    "from sklearn.metrics import mean_squared_error\n",
    "np.sqrt(mean_squared_error(bnb_pred, bruh))"
   ]
  },
  {
   "cell_type": "markdown",
   "id": "118181c2-0e0d-4e13-a1bf-89087cec1eff",
   "metadata": {},
   "source": [
    "#### 4."
   ]
  },
  {
   "cell_type": "code",
   "execution_count": 115,
   "id": "f325ebd9-6b54-43bc-841d-8a3118e44a15",
   "metadata": {},
   "outputs": [
    {
     "name": "stdout",
     "output_type": "stream",
     "text": [
      "Predicted Price:  0    5.578216\n",
      "dtype: float64\n"
     ]
    }
   ],
   "source": [
    "newX = {\"bedrooms2\":['2'], 'room_type':['Shared room'], 'accommodates2':['4 or more'], 'bathrooms2':['2']}\n",
    "two_room = m3.predict(newX)\n",
    "print('Predicted Price: ',two_room)"
   ]
  },
  {
   "cell_type": "code",
   "execution_count": 116,
   "id": "b1f6685c-a294-4e00-a8ad-2529420c4c3c",
   "metadata": {},
   "outputs": [
    {
     "name": "stdout",
     "output_type": "stream",
     "text": [
      "Predicted Price:  6.375890864331857\n"
     ]
    }
   ],
   "source": [
    "compute = airb[(airb[\"bedrooms2\"] == '2') & (airb['accommodates2'] == '4 or more')]\n",
    "two_room = m3.predict(compute)\n",
    "print('Predicted Price: ', np.mean(two_room))      #????"
   ]
  },
  {
   "cell_type": "markdown",
   "id": "18a448d8-6ea2-41b9-b5e3-e5827be1c1cf",
   "metadata": {},
   "source": [
    "#### 5."
   ]
  },
  {
   "cell_type": "code",
   "execution_count": 110,
   "id": "7232345e-18bb-4f21-887c-59b3422c7d8d",
   "metadata": {},
   "outputs": [
    {
     "name": "stdout",
     "output_type": "stream",
     "text": [
      "calculated price:  6.384548388368513\n"
     ]
    }
   ],
   "source": [
    "compute = airb[(airb[\"bedrooms2\"] == '2') & (airb['accommodates2'] == '4 or more')]\n",
    "print('calculated price: ',compute.logarithm.mean())"
   ]
  }
 ],
 "metadata": {
  "kernelspec": {
   "display_name": "Python 3 (ipykernel)",
   "language": "python",
   "name": "python3"
  },
  "language_info": {
   "codemirror_mode": {
    "name": "ipython",
    "version": 3
   },
   "file_extension": ".py",
   "mimetype": "text/x-python",
   "name": "python",
   "nbconvert_exporter": "python",
   "pygments_lexer": "ipython3",
   "version": "3.9.7"
  }
 },
 "nbformat": 4,
 "nbformat_minor": 5
}
